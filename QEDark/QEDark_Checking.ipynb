{
 "cells": [
  {
   "cell_type": "code",
   "execution_count": null,
   "metadata": {},
   "outputs": [
    {
     "data": {
      "text/plain": [
       "tensor([9.4724e+03, 5.3488e+03, 6.7255e+02, 9.2250e+01, 1.1871e+01, 1.8810e+00,\n",
       "        3.1260e-01, 6.9786e-02, 1.4662e-02, 3.5881e-03], dtype=torch.float64)"
      ]
     },
     "execution_count": 2,
     "metadata": {},
     "output_type": "execute_result"
    }
   ],
   "source": [
    "import torch\n",
    "from QEDark2 import QEDark\n",
    "#To just get the rate for all electron bins it is as easy as running something like this\n",
    "QE_rate = QEDark()\n",
    "ne = [1,2,3,4,5,6,7,8,9,10]\n",
    "material='Si'\n",
    "QE_rate.change_to_step()\n",
    "\n",
    "\n",
    "# QE_rate.update_params(238,250.2,544,0.3e9,1e-37)\n",
    "QE_rate.update_params(220,240,544,0.4e9,1e-37)\n",
    "# QE_rate.update_params()\n",
    "mX = 50\n",
    "FDMn = 2\n",
    "halo_model = 'imb'\n",
    "DoScreen = False\n",
    "forceCalculate = True\n",
    "\n",
    "\n",
    "drdne = QE_rate.vectorized_dRdnE(material,mX,ne,FDMn,halo_model,DoScreen=DoScreen,forceCalculate=forceCalculate)"
   ]
  },
  {
   "cell_type": "code",
   "execution_count": null,
   "metadata": {},
   "outputs": [],
   "source": []
  }
 ],
 "metadata": {
  "kernelspec": {
   "display_name": "Python 3",
   "language": "python",
   "name": "python3"
  },
  "language_info": {
   "codemirror_mode": {
    "name": "ipython",
    "version": 3
   },
   "file_extension": ".py",
   "mimetype": "text/x-python",
   "name": "python",
   "nbconvert_exporter": "python",
   "pygments_lexer": "ipython3",
   "version": "3.12.2"
  }
 },
 "nbformat": 4,
 "nbformat_minor": 2
}
