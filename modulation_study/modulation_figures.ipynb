{
 "cells": [
  {
   "cell_type": "code",
   "execution_count": 1,
   "metadata": {},
   "outputs": [
    {
     "name": "stdout",
     "output_type": "stream",
     "text": [
      "CUDA Available: True\n",
      "Number of GPUs available: 1\n",
      "GPU Name: NVIDIA GeForce RTX 4070\n",
      "Memory Usage:\n",
      "Allocated: 0.0 GB\n",
      "Cached:  0.0 GB\n"
     ]
    },
    {
     "name": "stderr",
     "output_type": "stream",
     "text": [
      "C:\\Users\\Ansh\\AppData\\Local\\Temp\\ipykernel_35160\\3227096607.py:11: FutureWarning: `torch.cuda.memory_cached` has been renamed to `torch.cuda.memory_reserved`\n",
      "  print('Cached: ', round(torch.cuda.memory_cached(0)/1024**3,1), 'GB')\n"
     ]
    }
   ],
   "source": [
    "import torch\n",
    "\n",
    "cuda_available = torch.cuda.is_available()\n",
    "print(f\"CUDA Available: {cuda_available}\")\n",
    "\n",
    "if cuda_available:\n",
    "    print(f\"Number of GPUs available: {torch.cuda.device_count()}\")\n",
    "    print(f\"GPU Name: {torch.cuda.get_device_name(0)}\")\n",
    "    print('Memory Usage:')\n",
    "    print('Allocated:', round(torch.cuda.memory_allocated(0)/1024**3,1), 'GB')\n",
    "    print('Cached: ', round(torch.cuda.memory_cached(0)/1024**3,1), 'GB')\n",
    "else:\n",
    "  print(\"CUDA is not available on this machine.\")"
   ]
  },
  {
   "cell_type": "code",
   "execution_count": null,
   "metadata": {},
   "outputs": [],
   "source": [
    "from Modulation import get_angle_limits\n",
    "\n",
    "print(get_angle_limits('PAUL',[12,9,2024]))\n",
    "get_angle_limits('SUPL',[12,9,2024])"
   ]
  },
  {
   "cell_type": "code",
   "execution_count": null,
   "metadata": {},
   "outputs": [],
   "source": [
    "from Modulation import plotLocationExposure\n",
    "\n",
    "plotLocationExposure('Snolab, Canada','Stawell, Australia',savefig=True)"
   ]
  },
  {
   "cell_type": "code",
   "execution_count": null,
   "metadata": {},
   "outputs": [],
   "source": [
    "from Modulation import plotMeanFreePath\n",
    "plotMeanFreePath(0)\n",
    "plotMeanFreePath(2)"
   ]
  },
  {
   "cell_type": "code",
   "execution_count": null,
   "metadata": {},
   "outputs": [],
   "source": [
    "from Modulation import plot_damascus_output\n",
    "plot_damascus_output(1.,0,1e-32,long=True,savefig=True)\n",
    "plot_damascus_output(1.,2,1e-32,long=True,savefig=True)"
   ]
  },
  {
   "cell_type": "code",
   "execution_count": null,
   "metadata": {},
   "outputs": [],
   "source": [
    "#points of interest\n",
    "#Si FDM 0\n",
    "#0.6 1e-30, 1 1e-32, 10 1e-36\n",
    "\n",
    "#Si FDM 2\n",
    "#0.6 1e-31, 1 1e-32, 10 1e-34 or 5 or 6\n",
    "\n",
    "\n",
    "#Xe/Ar FDM 0 \n",
    "#10 1e-35, 100 1e-40, 1000 1e-40\n",
    "\n",
    "#Xe/Ar FDM 2\n",
    "#10 1e-35, 100 1e-35, 1000 1e-34\n"
   ]
  },
  {
   "cell_type": "code",
   "execution_count": null,
   "metadata": {},
   "outputs": [],
   "source": [
    "from Modulation import plot_modulation_ne_bins\n",
    "# plot_modulation_ne_bins(1.,10.,1e-32,1e-36,'Si',0,location1='SNOLAB',location2='SUPL',fractional=True,useVerne=False,verbose=False,fromFile=True,nes=[1,2,3,4,5,6,7,8,9,10],save=True)\n",
    "# plot_modulation_ne_bins(1.,10.,1e-32,1e-34,'Si',2,location1='SNOLAB',location2='SUPL',fractional=True,useVerne=False,verbose=False,fromFile=True,nes=[1,2,3,4,5,6,7,8,9,10],save=True)\n",
    "# plot_modulation_ne_bins(100.,1000.,1e-39,1e-39,'Xe',0,location1='SNOLAB',location2='SUPL',fractional=True,useVerne=False,verbose=False,fromFile=True,nes=[1,2,3,4,5,6,7,8,9,10],save=True)\n",
    "# plot_modulation_ne_bins(10.,100.,1e-35,1e-34,'Xe',2,location1='SNOLAB',location2='SUPL',fractional=True,useVerne=False,verbose=False,fromFile=True,nes=[1,2,3,4,5,6,7,8,9,10],save=True)\n",
    "# plot_modulation_ne_bins(100.,1000.,1e-39,1e-39,'Ar',0,location1='SNOLAB',location2='SUPL',fractional=True,useVerne=False,verbose=False,fromFile=True,nes=[1,2,3,4,5,6,7,8,9,10],save=True)\n",
    "# plot_modulation_ne_bins(10.,100.,1e-35,1e-34,'Ar',2,location1='SNOLAB',location2='SUPL',fractional=True,useVerne=False,verbose=False,fromFile=True,nes=[1,2,3,4,5,6,7,8,9,10],save=True)\n",
    "\n",
    "plot_modulation_ne_bins(1.,10.,1e-32,1e-36,'Si',0,location1='SNOLAB',location2='SUPL',fractional=True,useVerne=False,verbose=False,fromFile=True,nes=[1,2,3,4,5,6,7,8,9,10],save=True,useQCDark=True)\n",
    "plot_modulation_ne_bins(1.,10.,1e-32,1e-34,'Si',2,location1='SNOLAB',location2='SUPL',fractional=True,useVerne=False,verbose=False,fromFile=True,nes=[1,2,3,4,5,6,7,8,9,10],save=True,useQCDark=True)\n",
    "plot_modulation_ne_bins(1.,10.,1e-32,1e-36,'Si',0,location1='SNOLAB',location2='SUPL',fractional=True,useVerne=True,verbose=False,fromFile=True,nes=[1,2,3,4,5,6,7,8,9,10],save=True,useQCDark=True)\n",
    "plot_modulation_ne_bins(1.,10.,1e-32,1e-34,'Si',2,location1='SNOLAB',location2='SUPL',fractional=True,useVerne=True,verbose=False,fromFile=True,nes=[1,2,3,4,5,6,7,8,9,10],save=True,useQCDark=True)\n",
    "plot_modulation_ne_bins(100.,1000.,1e-39,1e-39,'Xe',0,location1='SNOLAB',location2='SUPL',fractional=True,useVerne=True,verbose=False,fromFile=True,nes=[1,2,3,4,5,6,7,8,9,10],save=True,ybounds=(0,1.7),useQCDark=True)\n",
    "plot_modulation_ne_bins(100.,1000.,1e-35,1e-34,'Xe',2,location1='SNOLAB',location2='SUPL',fractional=True,useVerne=True,verbose=False,fromFile=True,nes=[1,2,3,4,5,6,7,8,9,10],save=True,ybounds=(0,1.7),useQCDark=True)\n",
    "plot_modulation_ne_bins(100.,1000.,1e-39,1e-39,'Ar',0,location1='SNOLAB',location2='SUPL',fractional=True,useVerne=True,verbose=False,fromFile=True,nes=[1,2,3,4,5,6,7,8,9,10],save=True,ybounds=(0,1.9),useQCDark=True)\n",
    "plot_modulation_ne_bins(100.,1000.,1e-35,1e-34,'Ar',2,location1='SNOLAB',location2='SUPL',fractional=True,useVerne=True,verbose=False,fromFile=True,nes=[1,2,3,4,5,6,7,8,9,10],save=True,ybounds=(0,1.9),useQCDark=True)"
   ]
  },
  {
   "cell_type": "code",
   "execution_count": null,
   "metadata": {},
   "outputs": [],
   "source": [
    "# from Modulation import plotRateComparison\n",
    "# plotRateComparison('Si',1e-32,[0.6,1.,10.],0,plotVerne=True,savefig=True,savedir=None,verneOnly=False,damascusOnly=False,useQCDark = True)\n",
    "# plotRateComparison('Si',[1e-32,1e-32,1e-32],[0.6,1.,10.],2,plotVerne=True,savefig=True,savedir=None,verneOnly=False,damascusOnly=False,useQCDark = True)\n"
   ]
  },
  {
   "cell_type": "code",
   "execution_count": null,
   "metadata": {},
   "outputs": [],
   "source": []
  },
  {
   "cell_type": "code",
   "execution_count": null,
   "metadata": {},
   "outputs": [],
   "source": []
  },
  {
   "cell_type": "code",
   "execution_count": null,
   "metadata": {},
   "outputs": [],
   "source": []
  },
  {
   "cell_type": "code",
   "execution_count": null,
   "metadata": {},
   "outputs": [],
   "source": [
    "from Modulation import plotRateComparisonSubplots\n",
    "plotRateComparisonSubplots('Si',[1e-31,1e-32,1e-36],[0.6,1.,10.],0,plotVerne=True,savefig=True,savedir=None,verneOnly=False,damascusOnly=False,showScatter=True,showFit=True,useQCDark = True)\n",
    "plotRateComparisonSubplots('Si',[1e-29,1e-32,1e-34],[0.6,1.,10.],2,plotVerne=True,savefig=True,savedir=None,verneOnly=False,damascusOnly=False,showScatter=True,showFit=True,useQCDark = True)\n"
   ]
  },
  {
   "cell_type": "code",
   "execution_count": null,
   "metadata": {},
   "outputs": [],
   "source": [
    "from Modulation import plotRateComparisonSubplots\n",
    "\n",
    "plotRateComparisonSubplots('Xe',[1e-36,1e-40,1e-40],[10.,100.,1000.],0,plotVerne=True,savefig=True,savedir=None,verneOnly=False,damascusOnly=False,showScatter=True,showFit=True,useQCDark = False)\n",
    "plotRateComparisonSubplots('Xe',[1e-34,1e-34,1e-34],[10.,100.,1000.],2,plotVerne=True,savefig=True,savedir=None,verneOnly=False,damascusOnly=False,showScatter=True,showFit=True,useQCDark = False)\n",
    "\n"
   ]
  },
  {
   "cell_type": "code",
   "execution_count": null,
   "metadata": {},
   "outputs": [],
   "source": [
    "\n",
    "\n",
    "plotRateComparisonSubplots('Ar',[1e-36,1e-40,1e-40],[10.,100.,1000.],0,plotVerne=True,savefig=True,savedir=None,verneOnly=False,damascusOnly=False,showScatter=True,showFit=True,useQCDark = False)\n",
    "plotRateComparisonSubplots('Ar',[1e-34,1e-34,1e-34],[10.,100.,1000.],2,plotVerne=True,savefig=True,savedir=None,verneOnly=False,damascusOnly=False,showScatter=True,showFit=True,useQCDark = False)"
   ]
  },
  {
   "cell_type": "code",
   "execution_count": null,
   "metadata": {},
   "outputs": [],
   "source": [
    "from Modulation import plotModulationFigure\n"
   ]
  },
  {
   "cell_type": "code",
   "execution_count": null,
   "metadata": {},
   "outputs": [],
   "source": [
    "plotModulationFigure(0,fractional=False,plotConstraints=True,useVerne=True,fromFile=True,verbose=False,masses=None,sigmaEs=None,ne=1,shadeMFP=True,savefig=True,kgday=True,useQCDark=True)\n",
    "plotModulationFigure(2,fractional=False,plotConstraints=True,useVerne=True,fromFile=True,verbose=False,masses=None,sigmaEs=None,ne=1,shadeMFP=True,savefig=True,kgday=True,useQCDark=True)\n",
    "\n"
   ]
  },
  {
   "cell_type": "code",
   "execution_count": null,
   "metadata": {},
   "outputs": [],
   "source": []
  },
  {
   "cell_type": "code",
   "execution_count": null,
   "metadata": {},
   "outputs": [],
   "source": [
    "plotModulationFigure(0,fractional=True,plotConstraints=True,useVerne=True,fromFile=True,verbose=False,masses=None,sigmaEs=None,ne=1,shadeMFP=True,savefig=True,kgday=True,useQCDark=True)\n",
    "plotModulationFigure(2,fractional=True,plotConstraints=True,useVerne=True,fromFile=True,verbose=False,masses=None,sigmaEs=None,ne=1,shadeMFP=True,savefig=True,kgday=True,useQCDark=True)\n",
    "\n"
   ]
  },
  {
   "cell_type": "code",
   "execution_count": null,
   "metadata": {},
   "outputs": [],
   "source": []
  },
  {
   "cell_type": "code",
   "execution_count": null,
   "metadata": {},
   "outputs": [],
   "source": []
  },
  {
   "cell_type": "code",
   "execution_count": null,
   "metadata": {},
   "outputs": [],
   "source": [
    "from Modulation import plotMaterialSignifianceFigure\n",
    "plotMaterialSignifianceFigure(0,material='Si',plotConstraints=True,useVerne=True,fromFile=True,verbose=False,masses=None,sigmaEs=None,ne=1,shadeMFP=True,savefig=True,useQCDark = True,showProjection=False)\n",
    "\n",
    "\n",
    "plotMaterialSignifianceFigure(2,material='Si',plotConstraints=True,useVerne=True,fromFile=True,verbose=False,masses=None,sigmaEs=None,ne=1,shadeMFP=True,savefig=True,useQCDark = True,showProjection=False)\n",
    "\n",
    "plotMaterialSignifianceFigure(0,material='Si',plotConstraints=True,useVerne=True,fromFile=True,verbose=False,masses=None,sigmaEs=None,ne=2,shadeMFP=True,savefig=True,useQCDark = True)\n",
    "plotMaterialSignifianceFigure(2,material='Si',plotConstraints=True,useVerne=True,fromFile=True,verbose=False,masses=None,sigmaEs=None,ne=2,shadeMFP=True,savefig=True,useQCDark = True)\n",
    "\n"
   ]
  },
  {
   "cell_type": "code",
   "execution_count": null,
   "metadata": {},
   "outputs": [],
   "source": []
  },
  {
   "cell_type": "code",
   "execution_count": null,
   "metadata": {},
   "outputs": [],
   "source": [
    "from Modulation import plotMaterialSignifianceFigure\n",
    "plotMaterialSignifianceFigure(0,material='Xe',plotConstraints=True,useVerne=True,fromFile=True,verbose=False,masses=None,sigmaEs=None,ne=1,shadeMFP=True,savefig=True,useQCDark = False)\n"
   ]
  },
  {
   "cell_type": "code",
   "execution_count": null,
   "metadata": {},
   "outputs": [],
   "source": [
    "plotMaterialSignifianceFigure(2,material='Xe',plotConstraints=True,useVerne=True,fromFile=True,verbose=False,masses=None,sigmaEs=None,ne=1,shadeMFP=True,savefig=True,useQCDark = False)\n",
    "\n",
    "plotMaterialSignifianceFigure(0,material='Xe',plotConstraints=True,useVerne=True,fromFile=True,verbose=False,masses=None,sigmaEs=None,ne=2,shadeMFP=True,savefig=True,useQCDark = False)\n",
    "# plotMaterialSignifianceFigure(2,material='Xe',plotConstraints=True,useVerne=True,fromFile=True,verbose=False,masses=None,sigmaEs=None,ne=2,shadeMFP=True,savefig=True,useQCDark = False)\n",
    "\n",
    "plotMaterialSignifianceFigure(0,material='Xe',plotConstraints=True,useVerne=True,fromFile=True,verbose=False,masses=None,sigmaEs=None,ne=3,shadeMFP=True,savefig=True,useQCDark = False)\n",
    "# plotMaterialSignifianceFigure(2,material='Xe',plotConstraints=True,useVerne=True,fromFile=True,verbose=False,masses=None,sigmaEs=None,ne=3,shadeMFP=True,savefig=True,useQCDark = False)\n",
    "\n",
    "plotMaterialSignifianceFigure(0,material='Xe',plotConstraints=True,useVerne=True,fromFile=True,verbose=False,masses=None,sigmaEs=None,ne=4,shadeMFP=True,savefig=True,useQCDark = False)\n",
    "# plotMaterialSignifianceFigure(2,material='Xe',plotConstraints=True,useVerne=True,fromFile=True,verbose=False,masses=None,sigmaEs=None,ne=4,shadeMFP=True,savefig=True,useQCDark = False)"
   ]
  },
  {
   "cell_type": "code",
   "execution_count": null,
   "metadata": {},
   "outputs": [],
   "source": [
    "from Modulation import plotMaterialSignifianceFigure\n",
    "plotMaterialSignifianceFigure(0,material='Ar',plotConstraints=True,useVerne=True,fromFile=True,verbose=False,masses=None,sigmaEs=None,ne=2,shadeMFP=True,savefig=True,useQCDark = False,showProjection=False)\n",
    "plotMaterialSignifianceFigure(2,material='Ar',plotConstraints=True,useVerne=True,fromFile=True,verbose=False,masses=None,sigmaEs=None,ne=2,shadeMFP=True,savefig=True,useQCDark = False,showProjection=False)\n",
    "\n"
   ]
  },
  {
   "cell_type": "code",
   "execution_count": null,
   "metadata": {},
   "outputs": [],
   "source": [
    "plotMaterialSignifianceFigure(0,material='Ar',plotConstraints=True,useVerne=True,fromFile=True,verbose=False,masses=None,sigmaEs=None,ne=3,shadeMFP=True,savefig=True,useQCDark = False,showProjection=False)\n",
    "# plotMaterialSignifianceFigure(2,material='Ar',plotConstraints=True,useVerne=True,fromFile=True,verbose=False,masses=None,sigmaEs=None,ne=3,shadeMFP=True,savefig=True,useQCDark = False,showProjection=False)\n",
    "\n",
    "plotMaterialSignifianceFigure(0,material='Ar',plotConstraints=True,useVerne=True,fromFile=True,verbose=False,masses=None,sigmaEs=None,ne=4,shadeMFP=True,savefig=True,useQCDark = False,showProjection=False)\n",
    "# plotMaterialSignifianceFigure(2,material='Ar',plotConstraints=True,useVerne=True,fromFile=True,verbose=False,masses=None,sigmaEs=None,ne=4,shadeMFP=True,savefig=True,useQCDark = False,showProjection=False)"
   ]
  },
  {
   "cell_type": "code",
   "execution_count": null,
   "metadata": {},
   "outputs": [],
   "source": [
    "def significance(average,fracamp,exposure,background):\n",
    "    import numpy as np\n",
    "    numerator = average * fracamp * exposure\n",
    "    denominator = average + background\n",
    "    denominator*= exposure\n",
    "    denominator = np.sqrt(denominator)\n",
    "    sig = numerator / denominator\n",
    "    return sig\n",
    "def required_exp_5sigma(average,fracamp,background,reqsigma=5):\n",
    "    exp = ((reqsigma**2) * (background + average)) / ((fracamp**2) * (average**2))\n",
    "    return exp"
   ]
  },
  {
   "cell_type": "code",
   "execution_count": null,
   "metadata": {},
   "outputs": [],
   "source": [
    "import numericalunits as nu\n",
    "\n",
    "xenon_1e_background = 3 / nu.kg /nu.day\n",
    "xenon_2e_background = 0.1 / nu.kg /nu.day\n",
    "xenon_3e_background = 0.02 / nu.kg /nu.day\n",
    "xenon_4e_background = 0.01 / nu.kg /nu.day\n",
    "\n",
    "argon_2e_background= 0.1 / 0.25 / nu.kg /nu.day\n",
    "argon_3e_background= 0.005 / 0.25 / nu.kg /nu.day\n",
    "argon_4e_background= 0.001 / 0.25 / nu.kg /nu.day\n",
    "\n",
    "pix_1e = 1.39e-5 #e^-/pix/day\n",
    "grams_per_pixel = (3.485*1e-7)\n",
    "si_1e_background = pix_1e / grams_per_pixel \n",
    "si_1e_background *= (1 / nu.g /nu.day)\n",
    "\n",
    "exp_2e =46.61  * nu.g * nu.day\n",
    "# exp_2e /=1000 #kg days\n",
    "counts_2e = 55\n",
    "si_2e_background = counts_2e / exp_2e #e / kg /day"
   ]
  },
  {
   "cell_type": "code",
   "execution_count": null,
   "metadata": {},
   "outputs": [],
   "source": [
    "from Modulation import get_amplitude,get_angle_limits\n",
    "minangle,maxangle = get_angle_limits('GS')\n",
    "mat = 'Ar'\n",
    "FDMn= 2\n",
    "test_mx = 1000.\n",
    "ne = 4\n",
    "test_cs = 1e-36\n",
    "test_amp = get_amplitude(test_mx,test_cs,FDMn,mat,minangle,maxangle,ne=ne,fractional=False,useVerne = True,fromFile=True)\n",
    "test_amp_average = get_amplitude(test_mx,test_cs,FDMn,mat,minangle,maxangle,ne=ne,fractional=False,useVerne = True,fromFile=True,returnaverage=True)\n",
    "test_amp_frac = get_amplitude(test_mx,test_cs,FDMn,mat,minangle,maxangle,ne=ne,fractional=True,useVerne = True,fromFile=True)\n",
    "\n",
    "test_amp_frac,test_amp * nu.kg * nu.day,test_amp_average * nu.kg * nu.day"
   ]
  },
  {
   "cell_type": "code",
   "execution_count": null,
   "metadata": {},
   "outputs": [],
   "source": [
    "import numpy as np\n",
    "expkgday = required_exp_5sigma(test_amp_average,test_amp_frac,argon_4e_background) \n",
    "np.round(expkgday / nu.tonne / nu.year)"
   ]
  },
  {
   "cell_type": "code",
   "execution_count": null,
   "metadata": {},
   "outputs": [],
   "source": [
    "\n",
    "30268094\n",
    "30000000"
   ]
  },
  {
   "cell_type": "code",
   "execution_count": null,
   "metadata": {},
   "outputs": [],
   "source": []
  },
  {
   "cell_type": "code",
   "execution_count": null,
   "metadata": {},
   "outputs": [],
   "source": []
  },
  {
   "cell_type": "code",
   "execution_count": null,
   "metadata": {},
   "outputs": [],
   "source": [
    "significance(test_amp_average,test_amp_frac,1 * nu.tonne * nu.year, xenon_1e_background)"
   ]
  },
  {
   "cell_type": "code",
   "execution_count": null,
   "metadata": {},
   "outputs": [],
   "source": [
    "def quick_signifiance_contour(exposure,background):\n",
    "    from Modulation import getModulationAmplitudes\n",
    "    from scipy.interpolate import griddata\n",
    "    import numpy as np\n",
    "    import matplotlib.pyplot as plt\n",
    "    from matplotlib.colors import LogNorm,Normalize\n",
    "    mat = 'Xe'\n",
    "    FDMn = 2\n",
    "\n",
    "    masses,cross_sections,fractional_amplitudes = getModulationAmplitudes(mat,FDMn,\"SNO\",fractional=True,useVerne=True,fromFile=True,verbose=False,ne=1,returnaverage=False,useQCDark=True)\n",
    "\n",
    "    masses,cross_sections,amplitudes = getModulationAmplitudes(mat,FDMn,\"SNO\",fractional=False,useVerne=True,fromFile=True,verbose=False,ne=1,returnaverage=True,useQCDark=True)\n",
    "\n",
    "    # amplitudes  = amplitudes * nu.kg * nu.day\n",
    "\n",
    "\n",
    "    log_masses = np.log10(masses)\n",
    "    log_cross_sections = np.log10(cross_sections)\n",
    "\n",
    "    log_mass_grid = np.linspace(log_masses.min(), log_masses.max(), 1000)\n",
    "    log_cs_grid = np.linspace(log_cross_sections.min(), log_cross_sections.max(), 1000)\n",
    "\n",
    "    log_mass_grid, log_cs_grid = np.meshgrid(log_mass_grid, log_cs_grid)\n",
    "\n",
    "    amplitude_grid = griddata(\n",
    "        points=(log_masses, log_cross_sections),\n",
    "        values=amplitudes,\n",
    "        xi=(log_mass_grid, log_cs_grid),\n",
    "        method='linear'\n",
    "    )\n",
    "\n",
    "\n",
    "    fractional_amplitude_grid = griddata(\n",
    "        points=(log_masses, log_cross_sections),\n",
    "        values=fractional_amplitudes,\n",
    "        xi=(log_mass_grid, log_cs_grid),\n",
    "        method='linear'\n",
    "    )\n",
    "\n",
    "    # amplitude_grid = np.ma.masked_invalid(amplitude_grid)\n",
    "    # fractional_amplitude_grid = np.ma.masked_invalid(fractional_amplitude_grid)\n",
    "\n",
    "    significance_grid = (np.sqrt(exposure) * amplitude_grid * fractional_amplitude_grid) / np.sqrt(amplitude_grid+background)\n",
    "    significance_grid[significance_grid > 5] = 5.5\n",
    "\n",
    "\n",
    "    norm = Normalize(vmin=0, vmax=5),\n",
    "    norm = LogNorm(vmin=1e-6,vmax=1e6)\n",
    "    norm = None\n",
    "    mass_grid = 10**log_mass_grid\n",
    "    cs_grid = 10**log_cs_grid\n",
    "\n",
    "    contour = plt.contourf(\n",
    "        mass_grid,\n",
    "        cs_grid,\n",
    "        significance_grid,\n",
    "        levels=10,\n",
    "        cmap='viridis',\n",
    "        norm=norm\n",
    "    )\n",
    "    plt.xscale('log')\n",
    "    plt.yscale('log')\n",
    "    cbar = plt.colorbar(contour)\n",
    "    cbar.set_label('Significance')\n",
    "    plt.ylim(1e-37,1e-34)\n",
    "    plt.xlim(5,1000)\n",
    "    plt.xlabel('Mass')\n",
    "    plt.ylabel('Cross Section')\n",
    "    plt.title('Log-Log Interpolated Amplitude Grid with Log Colorbar')\n",
    "    plt.show()\n",
    "    plt.close()\n",
    "    return amplitude_grid,fractional_amplitude_grid,significance_grid"
   ]
  },
  {
   "cell_type": "code",
   "execution_count": null,
   "metadata": {},
   "outputs": [],
   "source": [
    "amplitude_grid,fractional_amplitude_grid,significance_grid = quick_signifiance_contour(1 * nu.tonne*nu.year ,xenon_1e_background)"
   ]
  },
  {
   "cell_type": "code",
   "execution_count": null,
   "metadata": {},
   "outputs": [],
   "source": [
    "amplitude_grid"
   ]
  },
  {
   "cell_type": "code",
   "execution_count": null,
   "metadata": {},
   "outputs": [],
   "source": []
  },
  {
   "cell_type": "code",
   "execution_count": null,
   "metadata": {},
   "outputs": [],
   "source": [
    "import matplotlib.colors as mcolors\n",
    "\n",
    "def get_rgb(color_name):\n",
    "  \"\"\"\n",
    "  Converts a color name or valid color representation to an RGB tuple.\n",
    "\n",
    "  Args:\n",
    "    color_name: A string representing a color name (e.g., 'red', 'blue'), \n",
    "                a hex code (e.g., '#FF0000'), or an RGB/RGBA tuple.\n",
    "\n",
    "  Returns:\n",
    "    An RGB tuple (r, g, b) where r, g, and b are floats in the range [0, 1], or None if the color name is invalid.\n",
    "  \"\"\"\n",
    "  try:\n",
    "    rgb_tuple = mcolors.to_rgb(color_name)\n",
    "    return rgb_tuple\n",
    "  except ValueError:\n",
    "    return None\n",
    "  \n",
    "def get_hex(color_name):\n",
    "    import matplotlib\n",
    "    hex_color = matplotlib.colors.to_hex(color_name)\n",
    "    print(f\"The hex value of {color_name} is {hex_color}\")\n",
    "    return hex_color\n",
    "  \n",
    "get_rgb('steelblue')\n",
    "get_hex('steelblue')\n"
   ]
  },
  {
   "cell_type": "code",
   "execution_count": null,
   "metadata": {},
   "outputs": [],
   "source": []
  },
  {
   "cell_type": "code",
   "execution_count": null,
   "metadata": {},
   "outputs": [],
   "source": []
  },
  {
   "cell_type": "code",
   "execution_count": null,
   "metadata": {},
   "outputs": [],
   "source": []
  }
 ],
 "metadata": {
  "kernelspec": {
   "display_name": ".conda",
   "language": "python",
   "name": "python3"
  },
  "language_info": {
   "codemirror_mode": {
    "name": "ipython",
    "version": 3
   },
   "file_extension": ".py",
   "mimetype": "text/x-python",
   "name": "python",
   "nbconvert_exporter": "python",
   "pygments_lexer": "ipython3",
   "version": "3.12.9"
  }
 },
 "nbformat": 4,
 "nbformat_minor": 2
}
