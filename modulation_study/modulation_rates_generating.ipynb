{
 "cells": [
  {
   "cell_type": "code",
   "execution_count": null,
   "metadata": {},
   "outputs": [],
   "source": [
    "from Modulation import get_modulated_rates"
   ]
  },
  {
   "cell_type": "code",
   "execution_count": null,
   "metadata": {},
   "outputs": [],
   "source": [
    "import numericalunits as nu\n",
    "test_mX = 100. #MeV\n",
    "test_cs = 1e-34\n",
    "FDMn = 2\n",
    "ne = 1\n",
    "useQCDark = True\n",
    "nes = [1,2,3,4,5,6,7,8,9,10]\n",
    "i_v,r_v = get_modulated_rates('Xe',test_mX,test_cs,FDMn,nes,useVerne=True,useQCDark=useQCDark)\n",
    "print(i_v.shape)\n",
    "r_v.shape\n",
    "\n",
    "# r_v *= nu.kg *nu.day\n",
    "# # i_d,r_d = get_modulated_rates('Si',test_mX,test_cs,FDMn,ne,useVerne=False,useQCDark=useQCDark)\n",
    "\n",
    "# import matplotlib.pyplot as plt\n",
    "\n",
    "# plt.plot(i_v,r_v,label='Verne')\n",
    "# # plt.plot(i_d,r_d,label='DaMaSCUS')\n",
    "# plt.legend()\n",
    "# plt.show()\n",
    "# plt.close()\n"
   ]
  },
  {
   "cell_type": "code",
   "execution_count": null,
   "metadata": {},
   "outputs": [],
   "source": [
    "(r_v[0] - r_v[-1]) / 2"
   ]
  },
  {
   "cell_type": "code",
   "execution_count": null,
   "metadata": {},
   "outputs": [],
   "source": [
    "test_mX = 30.89 #MeV\n",
    "test_cs = 1e-39\n",
    "FDMn = 0\n",
    "ne = 2\n",
    "useQCDark = True\n",
    "i_v,r_v = get_modulated_rates('Ar',test_mX,test_cs,FDMn,ne,useVerne=True,useQCDark=useQCDark)\n",
    "\n",
    "# i_d,r_d = get_modulated_rates('Xe',test_mX,test_cs,FDMn,ne,useVerne=False,useQCDark=useQCDark)\n",
    "\n",
    "import sys\n",
    "sys.path.append('../wimprates_mod/')\n",
    "\n",
    "\n",
    "import matplotlib.pyplot as plt\n",
    "\n",
    "plt.plot(i_v,r_v,label='Verne')\n",
    "# plt.plot(i_d,r_d,label='DaMaSCUS')\n",
    "\n",
    "plt.legend()\n",
    "plt.show()\n",
    "plt.close()\n",
    "import numpy as np\n",
    "print((np.max(r_v) - np.min(r_v) )/ 2)\n"
   ]
  },
  {
   "cell_type": "code",
   "execution_count": null,
   "metadata": {},
   "outputs": [],
   "source": [
    "from Modulation import get_amplitude\n",
    "get_amplitude(test_mX,test_cs,0,'Ar',0,180,ne,fractional=False,useVerne=True,fromFile= False)"
   ]
  },
  {
   "cell_type": "code",
   "execution_count": null,
   "metadata": {},
   "outputs": [],
   "source": [
    "test_mX = 10. #MeV\n",
    "test_cs = 1e-34\n",
    "FDMn = 0\n",
    "ne = 1\n",
    "useQCDark = True\n",
    "i_v,r_v = get_modulated_rates('Ar',test_mX,test_cs,FDMn,ne,useVerne=True,useQCDark=useQCDark)\n",
    "\n",
    "i_d,r_d = get_modulated_rates('Ar',test_mX,test_cs,FDMn,ne,useVerne=False,useQCDark=useQCDark)\n",
    "\n",
    "import matplotlib.pyplot as plt\n",
    "\n",
    "plt.plot(i_v,r_v,label='Verne')\n",
    "plt.plot(i_d,r_d,label='DaMaSCUS')\n",
    "plt.legend()\n",
    "plt.show()\n",
    "plt.close()\n"
   ]
  },
  {
   "cell_type": "code",
   "execution_count": 1,
   "metadata": {},
   "outputs": [
    {
     "name": "stderr",
     "output_type": "stream",
     "text": [
      "c:\\Users\\Ansh\\Projects\\DarkMatterRates\\modulation_study\\Modulation.py:397: SyntaxWarning: invalid escape sequence '\\m'\n",
      "  plt.xlabel('$v_{\\mathrm{min}}$ [km/s]')\n",
      "c:\\Users\\Ansh\\Projects\\DarkMatterRates\\modulation_study\\Modulation.py:398: SyntaxWarning: invalid escape sequence '\\e'\n",
      "  plt.ylabel('$\\eta$ [s/km]')\n",
      "c:\\Users\\Ansh\\Projects\\DarkMatterRates\\modulation_study\\Modulation.py:401: SyntaxWarning: invalid escape sequence '\\T'\n",
      "  clb.ax.set_title('$\\Theta$\\N{degree sign}',horizontalalignment='center',x=0.8)\n",
      "c:\\Users\\Ansh\\Projects\\DarkMatterRates\\modulation_study\\Modulation.py:407: SyntaxWarning: invalid escape sequence '\\m'\n",
      "  plt.text(0.99,0.95,'$F_{\\mathrm{DM}} = \\\\alpha m_e / q^2$',color='black',horizontalalignment='right',verticalalignment='center',transform = ax.transAxes)\n",
      "c:\\Users\\Ansh\\Projects\\DarkMatterRates\\modulation_study\\Modulation.py:409: SyntaxWarning: invalid escape sequence '\\m'\n",
      "  plt.text(0.99,0.95,'$F_{\\mathrm{DM}} = 1$',color='black',horizontalalignment='right',verticalalignment='center',transform = ax.transAxes)\n",
      "c:\\Users\\Ansh\\Projects\\DarkMatterRates\\modulation_study\\Modulation.py:411: SyntaxWarning: invalid escape sequence '\\o'\n",
      "  plt.text(0.99,0.87,'$\\overline{\\sigma}_{e} =$ ' + cs_str,color='black',horizontalalignment='right',verticalalignment='center',transform = ax.transAxes)\n",
      "c:\\Users\\Ansh\\Projects\\DarkMatterRates\\modulation_study\\Modulation.py:412: SyntaxWarning: invalid escape sequence '\\c'\n",
      "  plt.text(0.99,0.80,'$m_\\chi=$ ' + f'{test_mX} MeV',color='black',horizontalalignment='right',verticalalignment='center',transform = ax.transAxes)\n",
      "c:\\Users\\Ansh\\Projects\\DarkMatterRates\\modulation_study\\Modulation.py:739: SyntaxWarning: invalid escape sequence '\\m'\n",
      "  plt.xlabel('$v_{\\mathrm{min}}$ [km/s]')\n",
      "c:\\Users\\Ansh\\Projects\\DarkMatterRates\\modulation_study\\Modulation.py:740: SyntaxWarning: invalid escape sequence '\\e'\n",
      "  plt.ylabel('$\\eta$ [s/km]')\n",
      "c:\\Users\\Ansh\\Projects\\DarkMatterRates\\modulation_study\\Modulation.py:743: SyntaxWarning: invalid escape sequence '\\T'\n",
      "  clb.ax.set_title('$\\Theta$\\N{degree sign}',horizontalalignment='center',x=0.8)\n",
      "c:\\Users\\Ansh\\Projects\\DarkMatterRates\\modulation_study\\Modulation.py:749: SyntaxWarning: invalid escape sequence '\\m'\n",
      "  plt.text(0.99,0.95,'$F_{\\mathrm{DM}} = \\\\alpha m_e / q^2$',color='black',horizontalalignment='right',verticalalignment='center',transform = ax.transAxes)\n",
      "c:\\Users\\Ansh\\Projects\\DarkMatterRates\\modulation_study\\Modulation.py:751: SyntaxWarning: invalid escape sequence '\\m'\n",
      "  plt.text(0.99,0.95,'$F_{\\mathrm{DM}} = 1$',color='black',horizontalalignment='right',verticalalignment='center',transform = ax.transAxes)\n",
      "c:\\Users\\Ansh\\Projects\\DarkMatterRates\\modulation_study\\Modulation.py:753: SyntaxWarning: invalid escape sequence '\\m'\n",
      "  plt.text(0.99,0.95,'$F_{\\mathrm{DM}} = None$',color='black',horizontalalignment='right',verticalalignment='center',transform = ax.transAxes)\n",
      "c:\\Users\\Ansh\\Projects\\DarkMatterRates\\modulation_study\\Modulation.py:754: SyntaxWarning: invalid escape sequence '\\o'\n",
      "  plt.text(0.99,0.87,'$\\overline{\\sigma}_{e} =$ ' + str(sigmaE),color='black',horizontalalignment='right',verticalalignment='center',transform = ax.transAxes)\n",
      "c:\\Users\\Ansh\\Projects\\DarkMatterRates\\modulation_study\\Modulation.py:755: SyntaxWarning: invalid escape sequence '\\c'\n",
      "  plt.text(0.99,0.80,'$m_\\chi=$ ' + f'{mX} MeV',color='black',horizontalalignment='right',verticalalignment='center',transform = ax.transAxes)\n",
      "c:\\Users\\Ansh\\Projects\\DarkMatterRates\\modulation_study\\Modulation.py:856: SyntaxWarning: invalid escape sequence '\\m'\n",
      "  ax[1,0].set_xlabel('$v_{\\mathrm{min}}$ [km/s]')\n",
      "c:\\Users\\Ansh\\Projects\\DarkMatterRates\\modulation_study\\Modulation.py:857: SyntaxWarning: invalid escape sequence '\\e'\n",
      "  ax[1,0].set_ylabel('$\\eta$ [s/km]')\n",
      "c:\\Users\\Ansh\\Projects\\DarkMatterRates\\modulation_study\\Modulation.py:861: SyntaxWarning: invalid escape sequence '\\T'\n",
      "  clb.ax.set_title('$\\Theta$\\N{degree sign}',horizontalalignment='center',x=0.8)\n",
      "c:\\Users\\Ansh\\Projects\\DarkMatterRates\\modulation_study\\Modulation.py:866: SyntaxWarning: invalid escape sequence '\\m'\n",
      "  ax[1,0].text(0.99,0.95,'$F_{\\mathrm{DM}} = \\\\alpha m_e / q^2$',color='black',horizontalalignment='right',verticalalignment='center',transform = ax[1,0].transAxes)\n",
      "c:\\Users\\Ansh\\Projects\\DarkMatterRates\\modulation_study\\Modulation.py:868: SyntaxWarning: invalid escape sequence '\\m'\n",
      "  ax[1,0].text(0.99,0.95,'$F_{\\mathrm{DM}} = 1$',color='black',horizontalalignment='right',verticalalignment='center',transform = ax[1,0].transAxes)\n",
      "c:\\Users\\Ansh\\Projects\\DarkMatterRates\\modulation_study\\Modulation.py:870: SyntaxWarning: invalid escape sequence '\\m'\n",
      "  ax[1,0].text(0.99,0.95,'$F_{\\mathrm{DM}} = None$',color='black',horizontalalignment='right',verticalalignment='center',transform = ax[1,0].transAxes)\n",
      "c:\\Users\\Ansh\\Projects\\DarkMatterRates\\modulation_study\\Modulation.py:871: SyntaxWarning: invalid escape sequence '\\o'\n",
      "  ax[1,0].text(0.99,0.87,'$\\overline{\\sigma}_{e} =$ ' + str(sigmaE),color='black',horizontalalignment='right',verticalalignment='center',transform = ax[1,0].transAxes)\n",
      "c:\\Users\\Ansh\\Projects\\DarkMatterRates\\modulation_study\\Modulation.py:872: SyntaxWarning: invalid escape sequence '\\c'\n",
      "  ax[1,0].text(0.99,0.80,'$m_\\chi=$ ' + f'{mX} MeV',color='black',horizontalalignment='right',verticalalignment='center',transform = ax[1,0].transAxes)\n",
      "c:\\Users\\Ansh\\Projects\\DarkMatterRates\\modulation_study\\Modulation.py:887: SyntaxWarning: invalid escape sequence '\\m'\n",
      "  ax[1,1].set_xlabel('$v_{\\mathrm{min}}$ [km/s]')\n",
      "c:\\Users\\Ansh\\Projects\\DarkMatterRates\\modulation_study\\Modulation.py:888: SyntaxWarning: invalid escape sequence '\\e'\n",
      "  ax[1,1].set_ylabel('$\\eta$ [s/km]')\n",
      "c:\\Users\\Ansh\\Projects\\DarkMatterRates\\modulation_study\\Modulation.py:892: SyntaxWarning: invalid escape sequence '\\T'\n",
      "  clb.ax.set_title('$\\Theta$\\N{degree sign}',horizontalalignment='center',x=0.8)\n",
      "c:\\Users\\Ansh\\Projects\\DarkMatterRates\\modulation_study\\Modulation.py:896: SyntaxWarning: invalid escape sequence '\\m'\n",
      "  ax[1,1].text(0.99,0.95,'$F_{\\mathrm{DM}} = \\\\alpha m_e / q^2$',color='black',horizontalalignment='right',verticalalignment='center',transform = ax[1,1].transAxes)\n",
      "c:\\Users\\Ansh\\Projects\\DarkMatterRates\\modulation_study\\Modulation.py:898: SyntaxWarning: invalid escape sequence '\\m'\n",
      "  ax[1,1].text(0.99,0.95,'$F_{\\mathrm{DM}} = 1$',color='black',horizontalalignment='right',verticalalignment='center',transform = ax[1,1].transAxes)\n",
      "c:\\Users\\Ansh\\Projects\\DarkMatterRates\\modulation_study\\Modulation.py:900: SyntaxWarning: invalid escape sequence '\\m'\n",
      "  ax[1,1].text(0.99,0.95,'$F_{\\mathrm{DM}} = None$',color='black',horizontalalignment='right',verticalalignment='center',transform = ax[1,1].transAxes)\n",
      "c:\\Users\\Ansh\\Projects\\DarkMatterRates\\modulation_study\\Modulation.py:901: SyntaxWarning: invalid escape sequence '\\o'\n",
      "  ax[1,1].text(0.99,0.87,'$\\overline{\\sigma}_{e} =$ ' + str(sigmaE),color='black',horizontalalignment='right',verticalalignment='center',transform = ax[1,1].transAxes)\n",
      "c:\\Users\\Ansh\\Projects\\DarkMatterRates\\modulation_study\\Modulation.py:902: SyntaxWarning: invalid escape sequence '\\c'\n",
      "  ax[1,1].text(0.99,0.80,'$m_\\chi=$ ' + f'{mX} MeV',color='black',horizontalalignment='right',verticalalignment='center',transform = ax[1,1].transAxes)\n",
      "c:\\Users\\Ansh\\Projects\\DarkMatterRates\\modulation_study\\Modulation.py:1295: SyntaxWarning: invalid escape sequence '\\p'\n",
      "  fdm_str = 'FDM $\\propto$ 1'\n",
      "c:\\Users\\Ansh\\Projects\\DarkMatterRates\\modulation_study\\Modulation.py:1297: SyntaxWarning: invalid escape sequence '\\p'\n",
      "  fdm_str = 'FDM $\\propto$ $1/q^2$'\n",
      "c:\\Users\\Ansh\\Projects\\DarkMatterRates\\modulation_study\\Modulation.py:1311: SyntaxWarning: invalid escape sequence '\\c'\n",
      "  firstPointStr = '$m_\\chi = $' + f'{mX1}  MeV' + ' $\\overline{\\sigma}_e =$ ' + f'{sigmaE1}' + ' cm$^2$'\n",
      "c:\\Users\\Ansh\\Projects\\DarkMatterRates\\modulation_study\\Modulation.py:1311: SyntaxWarning: invalid escape sequence '\\o'\n",
      "  firstPointStr = '$m_\\chi = $' + f'{mX1}  MeV' + ' $\\overline{\\sigma}_e =$ ' + f'{sigmaE1}' + ' cm$^2$'\n",
      "c:\\Users\\Ansh\\Projects\\DarkMatterRates\\modulation_study\\Modulation.py:1312: SyntaxWarning: invalid escape sequence '\\c'\n",
      "  secondPointStr = '$m_\\chi = $' + f'{mX2} MeV' + ' $\\overline{\\sigma}_e =$ ' + f'{sigmaE2}' + ' cm$^2$'\n",
      "c:\\Users\\Ansh\\Projects\\DarkMatterRates\\modulation_study\\Modulation.py:1312: SyntaxWarning: invalid escape sequence '\\o'\n",
      "  secondPointStr = '$m_\\chi = $' + f'{mX2} MeV' + ' $\\overline{\\sigma}_e =$ ' + f'{sigmaE2}' + ' cm$^2$'\n",
      "c:\\Users\\Ansh\\Projects\\DarkMatterRates\\modulation_study\\Modulation.py:1343: SyntaxWarning: invalid escape sequence '\\m'\n",
      "  plt.ylabel(\"$f_{\\mathrm{mod}}$\")\n",
      "c:\\Users\\Ansh\\Projects\\DarkMatterRates\\modulation_study\\Modulation.py:2072: SyntaxWarning: invalid escape sequence '\\m'\n",
      "  fdmstr = '$F_{\\mathrm{DM}} \\propto q^{-2}$' if fdm == 2 else '$F_{\\mathrm{DM}} = 1$'\n",
      "c:\\Users\\Ansh\\Projects\\DarkMatterRates\\modulation_study\\Modulation.py:2072: SyntaxWarning: invalid escape sequence '\\m'\n",
      "  fdmstr = '$F_{\\mathrm{DM}} \\propto q^{-2}$' if fdm == 2 else '$F_{\\mathrm{DM}} = 1$'\n",
      "c:\\Users\\Ansh\\Projects\\DarkMatterRates\\modulation_study\\Modulation.py:2413: SyntaxWarning: invalid escape sequence '\\c'\n",
      "  current_ax.set_xlabel('$m_\\chi$ [MeV]',fontsize=small)\n",
      "c:\\Users\\Ansh\\Projects\\DarkMatterRates\\modulation_study\\Modulation.py:2414: SyntaxWarning: invalid escape sequence '\\o'\n",
      "  current_ax.set_ylabel('$\\overline{\\sigma}_e$ [cm$^2$]',fontsize=small)\n",
      "c:\\Users\\Ansh\\Projects\\DarkMatterRates\\modulation_study\\Modulation.py:2508: SyntaxWarning: invalid escape sequence '\\m'\n",
      "  fdm_str = '$F_{\\mathrm{DM}}= 1$'\n",
      "c:\\Users\\Ansh\\Projects\\DarkMatterRates\\modulation_study\\Modulation.py:2510: SyntaxWarning: invalid escape sequence '\\m'\n",
      "  fdm_str = '$F_{\\mathrm{DM}} = \\\\alpha m_e / q^2$'\n",
      "c:\\Users\\Ansh\\Projects\\DarkMatterRates\\modulation_study\\Modulation.py:2698: SyntaxWarning: invalid escape sequence '\\m'\n",
      "  fdmstr = '$F_{\\mathrm{DM}} \\propto q^{-2}$' if fdm == 2 else '$F_{\\mathrm{DM}} = 1$'\n",
      "c:\\Users\\Ansh\\Projects\\DarkMatterRates\\modulation_study\\Modulation.py:2698: SyntaxWarning: invalid escape sequence '\\m'\n",
      "  fdmstr = '$F_{\\mathrm{DM}} \\propto q^{-2}$' if fdm == 2 else '$F_{\\mathrm{DM}} = 1$'\n",
      "c:\\Users\\Ansh\\Projects\\DarkMatterRates\\modulation_study\\Modulation.py:2786: SyntaxWarning: invalid escape sequence '\\c'\n",
      "  current_ax.set_xlabel('$m_\\chi$ [MeV]',fontsize=small)\n",
      "c:\\Users\\Ansh\\Projects\\DarkMatterRates\\modulation_study\\Modulation.py:2787: SyntaxWarning: invalid escape sequence '\\o'\n",
      "  current_ax.set_ylabel('$\\overline{\\sigma}_e$ [cm$^2$]',fontsize=small)\n",
      "c:\\Users\\Ansh\\Projects\\DarkMatterRates\\modulation_study\\Modulation.py:2911: SyntaxWarning: invalid escape sequence '\\m'\n",
      "  fdm_str = '$F_{\\mathrm{DM}}= 1$'\n",
      "c:\\Users\\Ansh\\Projects\\DarkMatterRates\\modulation_study\\Modulation.py:2913: SyntaxWarning: invalid escape sequence '\\m'\n",
      "  fdm_str = '$F_{\\mathrm{DM}} = \\\\alpha m_e / q^2$'\n",
      "c:\\Users\\Ansh\\Projects\\DarkMatterRates\\modulation_study\\Modulation.py:3090: SyntaxWarning: invalid escape sequence '\\T'\n",
      "  plt.xlabel('$\\Theta$\\N{degree sign}')\n",
      "c:\\Users\\Ansh\\Projects\\DarkMatterRates\\modulation_study\\Modulation.py:3209: SyntaxWarning: invalid escape sequence '\\m'\n",
      "  fdm_str = '$F_{\\mathrm{DM}} = \\\\alpha m_e / q^2$'\n",
      "c:\\Users\\Ansh\\Projects\\DarkMatterRates\\modulation_study\\Modulation.py:3211: SyntaxWarning: invalid escape sequence '\\m'\n",
      "  fdm_str = '$F_{\\mathrm{DM}} = 1$'\n",
      "c:\\Users\\Ansh\\Projects\\DarkMatterRates\\modulation_study\\Modulation.py:3218: SyntaxWarning: invalid escape sequence '\\o'\n",
      "  sigmaE_str = '$\\overline{\\sigma}_e =$ ' + r'${} \\times 10^{{{}}}$'.format(*sE_str.split('e')) + 'cm$^2$'\n",
      "c:\\Users\\Ansh\\Projects\\DarkMatterRates\\modulation_study\\Modulation.py:3225: SyntaxWarning: invalid escape sequence '\\o'\n",
      "  sigmaE_str = '$\\overline{\\sigma}_e =$ ' + r'${} \\times 10^{{{}}}$'.format(*sE_str.split('e')) + 'cm$^2$'\n",
      "c:\\Users\\Ansh\\Projects\\DarkMatterRates\\modulation_study\\Modulation.py:3302: SyntaxWarning: invalid escape sequence '\\T'\n",
      "  current_ax.set_xlabel('$\\Theta$\\N{degree sign}')\n",
      "c:\\Users\\Ansh\\Projects\\DarkMatterRates\\modulation_study\\Modulation.py:3405: SyntaxWarning: invalid escape sequence '\\m'\n",
      "  fdm_str = '$F_{\\mathrm{DM}} = \\\\alpha m_e / q^2$'\n",
      "c:\\Users\\Ansh\\Projects\\DarkMatterRates\\modulation_study\\Modulation.py:3407: SyntaxWarning: invalid escape sequence '\\m'\n",
      "  fdm_str = '$F_{\\mathrm{DM}} = 1$'\n",
      "c:\\Users\\Ansh\\Projects\\DarkMatterRates\\modulation_study\\Modulation.py:3409: SyntaxWarning: invalid escape sequence '\\c'\n",
      "  mX_str = '$m_\\chi = $' + f'{mX} MeV'\n",
      "c:\\Users\\Ansh\\Projects\\DarkMatterRates\\modulation_study\\Modulation.py:3415: SyntaxWarning: invalid escape sequence '\\o'\n",
      "  sigmaE_str = '$\\overline{\\sigma}_e =$ ' + r'${} \\times 10^{{{}}}$'.format(*sE_str.split('e')) + 'cm$^2$'\n",
      "c:\\Users\\Ansh\\Projects\\DarkMatterRates\\modulation_study\\Modulation.py:3541: SyntaxWarning: invalid escape sequence '\\c'\n",
      "  plt.xlabel('$m_\\chi$ [MeV]')\n",
      "c:\\Users\\Ansh\\Projects\\DarkMatterRates\\modulation_study\\Modulation.py:3542: SyntaxWarning: invalid escape sequence '\\o'\n",
      "  plt.ylabel('$\\overline{\\sigma}_e$ [cm$^2$]')\n",
      "c:\\Users\\Ansh\\Projects\\DarkMatterRates\\modulation_study\\Modulation.py:83: TqdmExperimentalWarning: Using `tqdm.autonotebook.tqdm` in notebook mode. Use `tqdm.tqdm` instead to force console mode (e.g. in jupyter console)\n",
      "  from tqdm.autonotebook import tqdm\n"
     ]
    },
    {
     "name": "stdout",
     "output_type": "stream",
     "text": [
      "CUDA GPU found, performing calculations on GPU\n"
     ]
    },
    {
     "data": {
      "application/vnd.jupyter.widget-view+json": {
       "model_id": "9b25fb8662ae4130a36b92c5b594cb7b",
       "version_major": 2,
       "version_minor": 0
      },
      "text/plain": [
       "  0%|          | 0/4681 [00:00<?, ?it/s]"
      ]
     },
     "metadata": {},
     "output_type": "display_data"
    },
    {
     "name": "stderr",
     "output_type": "stream",
     "text": [
      "c:\\Users\\Ansh\\anaconda3\\envs\\dmerates\\Lib\\site-packages\\torch\\__init__.py:1236: UserWarning: torch.set_default_tensor_type() is deprecated as of PyTorch 2.1, please use torch.set_default_dtype() and torch.set_default_device() as alternatives. (Triggered internally at C:\\actions-runner\\_work\\pytorch\\pytorch\\pytorch\\torch\\csrc\\tensor\\python_tensor.cpp:436.)\n",
      "  _C._set_default_tensor_type(t)\n",
      "c:\\Users\\Ansh\\anaconda3\\envs\\dmerates\\Lib\\site-packages\\torchquad\\integration\\simpson.py:76: UserWarning: N per dimension cannot be even due to necessary subdivisions. N per dim will now be changed to the next lower integer, i.e. 900 -> 899.\n",
      "  warnings.warn(\n",
      "c:\\Users\\Ansh\\anaconda3\\envs\\dmerates\\Lib\\site-packages\\torch\\functional.py:539: UserWarning: torch.meshgrid: in an upcoming release, it will be required to pass the indexing argument. (Triggered internally at C:\\actions-runner\\_work\\pytorch\\pytorch\\pytorch\\aten\\src\\ATen\\native\\TensorShape.cpp:3638.)\n",
      "  return _VF.meshgrid(tensors, **kwargs)  # type: ignore[attr-defined]\n"
     ]
    },
    {
     "name": "stdout",
     "output_type": "stream",
     "text": [
      "CUDA GPU found, performing calculations on GPU\n"
     ]
    },
    {
     "data": {
      "application/vnd.jupyter.widget-view+json": {
       "model_id": "85d95b0409024b3db9a87224ba46b845",
       "version_major": 2,
       "version_minor": 0
      },
      "text/plain": [
       "  0%|          | 0/4681 [00:00<?, ?it/s]"
      ]
     },
     "metadata": {},
     "output_type": "display_data"
    },
    {
     "name": "stdout",
     "output_type": "stream",
     "text": [
      "CUDA GPU found, performing calculations on GPU\n"
     ]
    },
    {
     "data": {
      "application/vnd.jupyter.widget-view+json": {
       "model_id": "944820dc4f3a4bc0b77f7c86fbd5a7a7",
       "version_major": 2,
       "version_minor": 0
      },
      "text/plain": [
       "  0%|          | 0/4681 [00:00<?, ?it/s]"
      ]
     },
     "metadata": {},
     "output_type": "display_data"
    },
    {
     "name": "stdout",
     "output_type": "stream",
     "text": [
      "CUDA GPU found, performing calculations on GPU\n"
     ]
    },
    {
     "data": {
      "application/vnd.jupyter.widget-view+json": {
       "model_id": "5e4a1be82bf14c4dafa5662ef4fadd33",
       "version_major": 2,
       "version_minor": 0
      },
      "text/plain": [
       "  0%|          | 0/4681 [00:00<?, ?it/s]"
      ]
     },
     "metadata": {},
     "output_type": "display_data"
    },
    {
     "name": "stderr",
     "output_type": "stream",
     "text": [
      "c:\\Users\\Ansh\\anaconda3\\envs\\dmerates\\Lib\\site-packages\\torchquad\\integration\\simpson.py:76: UserWarning: N per dimension cannot be even due to necessary subdivisions. N per dim will now be changed to the next lower integer, i.e. 900 -> 899.\n",
      "  warnings.warn(\n"
     ]
    },
    {
     "name": "stdout",
     "output_type": "stream",
     "text": [
      "CUDA GPU found, performing calculations on GPU\n"
     ]
    },
    {
     "data": {
      "application/vnd.jupyter.widget-view+json": {
       "model_id": "b55a7efb328f4ae7a08887297934911d",
       "version_major": 2,
       "version_minor": 0
      },
      "text/plain": [
       "  0%|          | 0/4681 [00:00<?, ?it/s]"
      ]
     },
     "metadata": {},
     "output_type": "display_data"
    },
    {
     "name": "stdout",
     "output_type": "stream",
     "text": [
      "CUDA GPU found, performing calculations on GPU\n"
     ]
    },
    {
     "data": {
      "application/vnd.jupyter.widget-view+json": {
       "model_id": "842b3f229f8040188527749813643974",
       "version_major": 2,
       "version_minor": 0
      },
      "text/plain": [
       "  0%|          | 0/4681 [00:00<?, ?it/s]"
      ]
     },
     "metadata": {},
     "output_type": "display_data"
    },
    {
     "name": "stdout",
     "output_type": "stream",
     "text": [
      "CUDA GPU found, performing calculations on GPU\n",
      "Using form factor calculated from file: c:\\Users\\Ansh\\Projects\\DarkMatterRates\\modulation_study\\..\\DMeRates\\../QCDark/results/Si_final.hdf5\n"
     ]
    },
    {
     "data": {
      "application/vnd.jupyter.widget-view+json": {
       "model_id": "506971996c2a4c58905b9b1740311657",
       "version_major": 2,
       "version_minor": 0
      },
      "text/plain": [
       "  0%|          | 0/4681 [00:00<?, ?it/s]"
      ]
     },
     "metadata": {},
     "output_type": "display_data"
    },
    {
     "name": "stderr",
     "output_type": "stream",
     "text": [
      "c:\\Users\\Ansh\\anaconda3\\envs\\dmerates\\Lib\\site-packages\\torchquad\\integration\\simpson.py:76: UserWarning: N per dimension cannot be even due to necessary subdivisions. N per dim will now be changed to the next lower integer, i.e. 1250 -> 1249.\n",
      "  warnings.warn(\n"
     ]
    },
    {
     "name": "stdout",
     "output_type": "stream",
     "text": [
      "CUDA GPU found, performing calculations on GPU\n"
     ]
    },
    {
     "data": {
      "application/vnd.jupyter.widget-view+json": {
       "model_id": "c034ed0d762847129b49429a212be5e0",
       "version_major": 2,
       "version_minor": 0
      },
      "text/plain": [
       "  0%|          | 0/4681 [00:00<?, ?it/s]"
      ]
     },
     "metadata": {},
     "output_type": "display_data"
    },
    {
     "name": "stdout",
     "output_type": "stream",
     "text": [
      "CUDA GPU found, performing calculations on GPU\n"
     ]
    },
    {
     "data": {
      "application/vnd.jupyter.widget-view+json": {
       "model_id": "65c55046a5cc433481b5092ae80206a2",
       "version_major": 2,
       "version_minor": 0
      },
      "text/plain": [
       "  0%|          | 0/4681 [00:00<?, ?it/s]"
      ]
     },
     "metadata": {},
     "output_type": "display_data"
    },
    {
     "name": "stdout",
     "output_type": "stream",
     "text": [
      "CUDA GPU found, performing calculations on GPU\n",
      "Using form factor calculated from file: c:\\Users\\Ansh\\Projects\\DarkMatterRates\\modulation_study\\..\\DMeRates\\../QCDark/results/Si_final.hdf5\n"
     ]
    },
    {
     "data": {
      "application/vnd.jupyter.widget-view+json": {
       "model_id": "de8b84c782614edb9b030683da3dcd28",
       "version_major": 2,
       "version_minor": 0
      },
      "text/plain": [
       "  0%|          | 0/4681 [00:00<?, ?it/s]"
      ]
     },
     "metadata": {},
     "output_type": "display_data"
    },
    {
     "name": "stdout",
     "output_type": "stream",
     "text": [
      "CUDA GPU found, performing calculations on GPU\n"
     ]
    },
    {
     "data": {
      "application/vnd.jupyter.widget-view+json": {
       "model_id": "7571a859b0e54e168326b793b6ef331e",
       "version_major": 2,
       "version_minor": 0
      },
      "text/plain": [
       "  0%|          | 0/4681 [00:00<?, ?it/s]"
      ]
     },
     "metadata": {},
     "output_type": "display_data"
    },
    {
     "name": "stdout",
     "output_type": "stream",
     "text": [
      "CUDA GPU found, performing calculations on GPU\n"
     ]
    },
    {
     "data": {
      "application/vnd.jupyter.widget-view+json": {
       "model_id": "4c7e11e1819c4d569720ae995baa5571",
       "version_major": 2,
       "version_minor": 0
      },
      "text/plain": [
       "  0%|          | 0/4681 [00:00<?, ?it/s]"
      ]
     },
     "metadata": {},
     "output_type": "display_data"
    },
    {
     "name": "stdout",
     "output_type": "stream",
     "text": [
      "CUDA GPU found, performing calculations on GPU\n"
     ]
    },
    {
     "data": {
      "application/vnd.jupyter.widget-view+json": {
       "model_id": "52270b8fd4654d5c8e39212ccc92460f",
       "version_major": 2,
       "version_minor": 0
      },
      "text/plain": [
       "  0%|          | 0/4681 [00:00<?, ?it/s]"
      ]
     },
     "metadata": {},
     "output_type": "display_data"
    },
    {
     "name": "stdout",
     "output_type": "stream",
     "text": [
      "CUDA GPU found, performing calculations on GPU\n"
     ]
    },
    {
     "data": {
      "application/vnd.jupyter.widget-view+json": {
       "model_id": "5846dda27cf44f3a8964cecdbe25e3f7",
       "version_major": 2,
       "version_minor": 0
      },
      "text/plain": [
       "  0%|          | 0/4681 [00:00<?, ?it/s]"
      ]
     },
     "metadata": {},
     "output_type": "display_data"
    },
    {
     "name": "stdout",
     "output_type": "stream",
     "text": [
      "CUDA GPU found, performing calculations on GPU\n"
     ]
    },
    {
     "data": {
      "application/vnd.jupyter.widget-view+json": {
       "model_id": "ea1aa75834034add9b1613450ba98629",
       "version_major": 2,
       "version_minor": 0
      },
      "text/plain": [
       "  0%|          | 0/4681 [00:00<?, ?it/s]"
      ]
     },
     "metadata": {},
     "output_type": "display_data"
    },
    {
     "name": "stdout",
     "output_type": "stream",
     "text": [
      "CUDA GPU found, performing calculations on GPU\n"
     ]
    },
    {
     "data": {
      "application/vnd.jupyter.widget-view+json": {
       "model_id": "2a9e10fcbf6144b88a16124ed30fb98e",
       "version_major": 2,
       "version_minor": 0
      },
      "text/plain": [
       "  0%|          | 0/4681 [00:00<?, ?it/s]"
      ]
     },
     "metadata": {},
     "output_type": "display_data"
    },
    {
     "name": "stdout",
     "output_type": "stream",
     "text": [
      "CUDA GPU found, performing calculations on GPU\n"
     ]
    },
    {
     "data": {
      "application/vnd.jupyter.widget-view+json": {
       "model_id": "fcf2dac237d743d295c8be3d69c20aef",
       "version_major": 2,
       "version_minor": 0
      },
      "text/plain": [
       "  0%|          | 0/4681 [00:00<?, ?it/s]"
      ]
     },
     "metadata": {},
     "output_type": "display_data"
    },
    {
     "name": "stdout",
     "output_type": "stream",
     "text": [
      "CUDA GPU found, performing calculations on GPU\n"
     ]
    },
    {
     "data": {
      "application/vnd.jupyter.widget-view+json": {
       "model_id": "9d6fbe3658b84ebc83ba13a61aa88c7b",
       "version_major": 2,
       "version_minor": 0
      },
      "text/plain": [
       "  0%|          | 0/4681 [00:00<?, ?it/s]"
      ]
     },
     "metadata": {},
     "output_type": "display_data"
    }
   ],
   "source": [
    "from Modulation import generate_modulated_rates\n",
    "overwrite = False\n",
    "for doScreen in [True,False]:\n",
    "    for useVerne in [True]:\n",
    "        for useQCDark in [False,True]:\n",
    "            for FDMn in [0,2]:\n",
    "                for material in ['Si','Xe','Ar']:\n",
    "                    if doScreen == False and useQCDark == True:\n",
    "                        continue\n",
    "                    generate_modulated_rates(material,FDMn,useQCDark=useQCDark,useVerne=useVerne,doScreen=doScreen,overwrite=overwrite)"
   ]
  },
  {
   "cell_type": "code",
   "execution_count": null,
   "metadata": {},
   "outputs": [],
   "source": [
    "from Modulation import get_modulated_rates,fitted_rates\n",
    "import matplotlib.pyplot as plt\n",
    "import numpy as np\n",
    "mX = 0.6\n",
    "sigmaE = 1e-30\n",
    "FDMn = 2\n",
    "i,r = get_modulated_rates(mX,sigmaE,FDMn,useVerne=False,calcError=None,ne=1,useQCDark=True)\n",
    "i,rhigh = get_modulated_rates(mX,sigmaE,FDMn,useVerne=False,calcError='High',ne=1,useQCDark=True)\n",
    "iv,rv = get_modulated_rates(mX,sigmaE,FDMn,useVerne=True,calcError=None,ne=1,useQCDark=True)\n",
    "\n",
    "anglegrid,fit_vector,paramters,errors = fitted_rates(i,r,rates_err=rhigh-r,linear=False)\n",
    "fit = fit_vector[0]\n",
    "fit_upper = fit_vector[1]\n",
    "fit_lower = fit_vector[2]\n",
    "\n",
    "\n",
    "filedataqcark  = np.loadtxt(f'damascus_modulated_rates_screened_qcdark/mX_{str(mX).replace('.','_')}_MeV_sigmaE_{sigmaE}_FDM{FDMn}.csv',delimiter=',')\n",
    "ifile = filedataqcark[:,0]\n",
    "rfile_ne1 = filedataqcark[:,1]\n",
    "plt.errorbar(i,r,yerr = rhigh-r,ls=\"None\")\n",
    "plt.plot(i,r,label='DaMaSCUS',ls='--')\n",
    "plt.scatter(i,rfile_ne1,label='DaMaSCUS file',alpha= 0.5)\n",
    "\n",
    "plt.plot(anglegrid,fit,color='red',label=\"Fit\")\n",
    "# plt.fill_between(anglegrid,fit_lower,fit_upper,color='red',label=\"Fit Uncertainty\",alpha=0.3)\n",
    "\n",
    "\n",
    "\n",
    "plt.plot(iv,rv,label='Verne')\n",
    "plt.xlabel('Isoangle')\n",
    "plt.ylabel(\"Rate [events/g/day]\")\n",
    "fdm_dict = { 0: '$F_{\\mathrm{DM}} = 1$', 2: \"$F_{\\mathrm{DM}} \\propto$ $1/q^2$\"}\n",
    "plt.title(f'$m_\\chi$ = {mX}, $\\overline\\sigma_e$ = {sigmaE}, {fdm_dict[FDMn]}')\n",
    "plt.legend()\n",
    "plt.show()\n",
    "plt.close()"
   ]
  },
  {
   "cell_type": "code",
   "execution_count": null,
   "metadata": {},
   "outputs": [],
   "source": [
    "import os\n",
    "from tqdm.autonotebook import tqdm\n",
    "import re\n",
    "FDMn = 2\n",
    "useQCDark = True\n",
    "useVerne = False\n",
    "\n",
    "calc_method_dict = {True: \"verne\", False: \"damascus\"}   \n",
    "\n",
    "qedict = {True: \"_qcdark\",False: \"_qedark\"}\n",
    "fromFile = True\n",
    "ne = 1\n",
    "isoindex = 3\n",
    "isoangles = np.linspace(0,180,36)\n",
    "\n",
    "\n",
    "\n",
    "qestr = qedict[useQCDark]\n",
    "halo_type = calc_method_dict[useVerne]\n",
    "halo_dir = f'./{halo_type}_modulated_rates_screened{qestr}/'\n",
    "file_list = os.listdir(halo_dir)\n",
    "masses = []\n",
    "crossections = []\n",
    "rates =[]\n",
    "rates_verne = []\n",
    "test_mX = 1.0\n",
    "print('test mass', test_mX)\n",
    "print('test FDMN',FDMn)\n",
    "for f in tqdm(range(len(file_list))):\n",
    "    file = file_list[f]\n",
    "    if 'mX' not in file:\n",
    "        continue\n",
    "    mass_str = re.findall('mX_.+MeV',file)[0][3:-4]\n",
    "    mX = float(mass_str.replace('_','.'))\n",
    "    if mX != test_mX:\n",
    "        continue\n",
    "\n",
    "    sigmaE = re.findall('sigmaE_.+_FD',file)[0][7:-3]\n",
    "\n",
    "    sigmaE = float(sigmaE)\n",
    "    Fdm= int(re.findall('FDM.+.csv',file)[0][3:-4])\n",
    "    if Fdm != FDMn:\n",
    "        continue\n",
    "    \n",
    "    # if fromFile:\n",
    "    #     mass_str = str(mX).replace('.','_')\n",
    "    #     file = f'./{halo_type}_modulated_rates_screened{qestr}/mX_{mass_str}_MeV_sigmaE_{sigmaE}_FDM{FDMn}.csv'\n",
    "    #     fdata = np.loadtxt(file,delimiter=',')\n",
    "    #     soangles = fdata[:,0]\n",
    "    #     rate = fdata[:,ne]\n",
    "\n",
    "\n",
    "\n",
    "    # else:   \n",
    "    try:\n",
    "        iv,rv = get_modulated_rates(mX,sigmaE,FDMn,useVerne=True,calcError=None,ne=1,useQCDark=True)\n",
    "    except TypeError:\n",
    "        from Modulation import find_exp\n",
    "        print(sigmaE)\n",
    "        sigmaEexp = find_exp(sigmaE)\n",
    "        print(sigmaEexp)\n",
    "        sigmaEv = 3.16*(10**sigmaEexp)\n",
    "        try:\n",
    "            iv,rv = get_modulated_rates(mX,sigmaE,FDMn,useVerne=True,calcError=None,ne=1,useQCDark=True)\n",
    "        except:\n",
    "            print(sigmaE,'failed')\n",
    "            continue\n",
    "    rate_v = rv[isoindex]\n",
    "    try:\n",
    "        i,r = get_modulated_rates(mX,sigmaE,FDMn,useVerne=False,calcError=None,ne=1,useQCDark=True)\n",
    "    except TypeError:\n",
    "        print(mX,sigmaE)\n",
    "        raise TypeError\n",
    "        \n",
    "    i,rhigh = get_modulated_rates(mX,sigmaE,FDMn,useVerne=False,calcError='High',ne=1,useQCDark=True)\n",
    "    try:\n",
    "        anglegrid,fit_vector,paramters,errors = fitted_rates(i,r,rates_err=rhigh-r,linear=False)\n",
    "    except:\n",
    "        try:\n",
    "            anglegrid,fit_vector,paramters,errors = fitted_rates(i,r,linear=False)\n",
    "        except:\n",
    "            continue\n",
    "\n",
    "    fit = fit_vector[0]\n",
    "    rate = fit[isoindex]\n",
    "\n",
    "    masses.append(mX)\n",
    "    crossections.append(sigmaE)\n",
    "    rates.append(rate)\n",
    "    rates_verne.append(rate_v)\n",
    "    \n",
    "\n",
    "\n",
    "\n"
   ]
  },
  {
   "cell_type": "code",
   "execution_count": null,
   "metadata": {},
   "outputs": [],
   "source": [
    "rates =  np.array(rates)\n",
    "rates_verne = np.array(rates_verne)\n",
    "masses = np.array(masses)\n",
    "crossections = np.array(crossections)"
   ]
  },
  {
   "cell_type": "code",
   "execution_count": null,
   "metadata": {},
   "outputs": [],
   "source": [
    "plt.scatter(crossections,rates,label='DaMaSCUS')\n",
    "plt.scatter(crossections,rates_verne,label='Verne')\n",
    "plt.legend()\n",
    "plt.ylabel('Rates [events/g/day]')\n",
    "plt.xlabel(\"$\\overline{\\sigma}_e$\")\n",
    "plt.xscale('log')\n",
    "# plt.yscale('log')\n",
    "plt.title(f'Rates vs Cross Section for Isoangle {np.round(isoangles[isoindex],2)} $m_\\chi =$ {test_mX} MeV')\n",
    "plt.show()\n",
    "plt.close()"
   ]
  },
  {
   "cell_type": "code",
   "execution_count": null,
   "metadata": {},
   "outputs": [],
   "source": [
    "# from scipy.interpolate import griddata\n",
    "\n",
    "# log_masses = np.log(masses)\n",
    "# log_ses = np.log(crossections)\n",
    "# sigmas_fine_grid= np.geomspace(np.min(crossections),np.max(crossections),1000)\n",
    "# masses_fine_grid = np.geomspace(np.min(masses),np.max(masses),1000)\n",
    "# log_sigmas_fg = np.log(sigmas_fine_grid)\n",
    "# log_masses_fg = np.log(masses_fine_grid)\n",
    "# log_MGrid,log_CSGrid = np.meshgrid(log_masses_fg,log_sigmas_fg)\n",
    "\n",
    "\n",
    "# points =np.array(list(zip(log_masses,log_ses)))\n",
    "\n",
    "# values = np.log(rates)\n",
    "\n",
    "# fill_value = np.nan\n",
    "\n",
    "# Rates = griddata(points, values, (log_MGrid,log_CSGrid),method = 'linear',fill_value=fill_value)\n",
    "\n",
    "# Masses = np.exp(log_MGrid)\n",
    "# CrossSections = np.exp(log_CSGrid)\n",
    "# Rates = np.exp(Rates)"
   ]
  },
  {
   "cell_type": "code",
   "execution_count": null,
   "metadata": {},
   "outputs": [],
   "source": [
    "\n",
    "# CT1 =  plt.contourf(Masses,CrossSections,Rates)#,levs,norm=norm,cmap=cmap,extend=extend)\n",
    "# plt.xscale('log')\n",
    "# plt.yscale('log')\n",
    "# plt.ylabel('$\\sigma_e$')\n",
    "# plt.xlabel('$m_\\chi$')\n",
    "# plt.show()\n",
    "# plt.close()"
   ]
  },
  {
   "cell_type": "code",
   "execution_count": null,
   "metadata": {},
   "outputs": [],
   "source": [
    "def calculate_monthly_interest(principal, monthly_deposit, monthly_rate, months):\n",
    "    \"\"\"\n",
    "    Calculates the future value of an investment with monthly deposits and compounding interest.\n",
    "    \n",
    "    :param principal: Starting principal amount\n",
    "    :param monthly_deposit: Amount deposited every month\n",
    "    :param annual_interest_rate: Annual interest rate (as a percentage, e.g., 5 for 5%)\n",
    "    :param months: Total number of months to invest\n",
    "    :return: Final amount after the investment period\n",
    "    \"\"\"\n",
    "    \n",
    "    for month in range(1, months + 1):\n",
    "        # Apply interest to current balance\n",
    "        principal += principal * monthly_rate\n",
    "        # Add monthly deposit\n",
    "        principal += monthly_deposit\n",
    "\n",
    "    return round(principal, 2)\n",
    "\n",
    "# Example usage:\n",
    "months = 5\n",
    "final_amount = calculate_monthly_interest(\n",
    "    principal=1077,\n",
    "    monthly_deposit=100,\n",
    "    monthly_rate=0.04,\n",
    "    months=months\n",
    ")\n",
    "\n",
    "print(f\"Final amount after {months} months: ${final_amount}\")"
   ]
  },
  {
   "cell_type": "code",
   "execution_count": null,
   "metadata": {},
   "outputs": [],
   "source": []
  },
  {
   "cell_type": "code",
   "execution_count": null,
   "metadata": {},
   "outputs": [],
   "source": []
  }
 ],
 "metadata": {
  "kernelspec": {
   "display_name": "dmerates",
   "language": "python",
   "name": "python3"
  },
  "language_info": {
   "codemirror_mode": {
    "name": "ipython",
    "version": 3
   },
   "file_extension": ".py",
   "mimetype": "text/x-python",
   "name": "python",
   "nbconvert_exporter": "python",
   "pygments_lexer": "ipython3",
   "version": "3.12.9"
  }
 },
 "nbformat": 4,
 "nbformat_minor": 2
}
